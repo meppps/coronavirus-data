{
 "cells": [
  {
   "cell_type": "code",
   "execution_count": 1,
   "metadata": {},
   "outputs": [],
   "source": [
    "import pandas as pd\n",
    "import csv\n",
    "import requests\n",
    "from bs4 import BeautifulSoup\n",
    "import requests\n",
    "import pymongo\n",
    "import datetime\n",
    "import json\n",
    "import requests\n",
    "import time\n",
    "\n",
    "# Google developer API key\n",
    "from config import api_key"
   ]
  },
  {
   "cell_type": "code",
   "execution_count": 51,
   "metadata": {},
   "outputs": [],
   "source": [
    "url = 'https://www.worldometers.info/coronavirus/'"
   ]
  },
  {
   "cell_type": "code",
   "execution_count": null,
   "metadata": {},
   "outputs": [],
   "source": [
    "header = {\n",
    "  \"User-Agent\": \"Mozilla/5.0 (X11; Linux x86_64) AppleWebKit/537.36 (KHTML, like Gecko) Chrome/50.0.2661.75 Safari/537.36\",\n",
    "  \"X-Requested-With\": \"XMLHttpRequest\"\n",
    "}\n",
    "\n",
    "r = requests.get(url, headers=header)\n",
    "\n",
    "dfs = pd.read_html(r.text)\n",
    "\n",
    "df = dfs[0]\n",
    "\n",
    "df"
   ]
  },
  {
   "cell_type": "code",
   "execution_count": null,
   "metadata": {},
   "outputs": [],
   "source": [
    "## Df testing\n",
    "\n",
    "import numpy as np\n",
    "# df.head()\n",
    "randomList = []\n",
    "round(np.random.random_sample()*100,2)\n",
    "for x in range(len(df)):\n",
    "    randomList.append([round(np.random.random_sample()*100,2),round(np.random.random_sample()*100,2)])\n",
    "randomList\n",
    "df['Coords'] = randomList\n",
    "df"
   ]
  },
  {
   "cell_type": "code",
   "execution_count": 85,
   "metadata": {},
   "outputs": [
    {
     "name": "stdout",
     "output_type": "stream",
     "text": [
      "USA\n",
      "[37.09024, -95.712891]\n",
      "Spain\n",
      "[40.46366700000001, -3.74922]\n",
      "Italy\n",
      "[41.87194, 12.56738]\n"
     ]
    }
   ],
   "source": [
    "countries = list(df['Country,Other'])\n",
    "countryCount = 0\n",
    "coordinates = []\n",
    "for country in countries:\n",
    "#     print(country)\n",
    "    url = (f'https://maps.googleapis.com/maps/api/geocode/json?address={country}&key={api_key}')\n",
    "    # fix this with not in []\n",
    "    if country not in ['World','Total:']:\n",
    "        print(country)\n",
    "        try:\n",
    "            response = requests.get(url).json()\n",
    "            result = response['results'][0]['geometry']['location']\n",
    "            loc = [result['lat'],result['lng']]\n",
    "\n",
    "            print(loc)\n",
    "        except:\n",
    "            print('Failed Request')\n",
    "            loc = [0,0]\n",
    "        coordinates.append(loc)\n",
    "        time.sleep(3)\n",
    "    else:\n",
    "        loc = [0,0]\n",
    "        coordinates.append(loc)\n",
    "    \n",
    "    \n",
    "    countryCount +=1 \n",
    "    \n",
    "\n",
    "\n"
   ]
  },
  {
   "cell_type": "code",
   "execution_count": 76,
   "metadata": {},
   "outputs": [],
   "source": [
    "df['Coords'] = coordinates"
   ]
  },
  {
   "cell_type": "code",
   "execution_count": null,
   "metadata": {},
   "outputs": [],
   "source": [
    "df"
   ]
  },
  {
   "cell_type": "code",
   "execution_count": 78,
   "metadata": {},
   "outputs": [],
   "source": [
    "df.to_json('countries.json')"
   ]
  },
  {
   "cell_type": "code",
   "execution_count": 3,
   "metadata": {},
   "outputs": [],
   "source": [
    "# The default port used by MongoDB is 27017\n",
    "conn = 'mongodb://localhost:27017'\n",
    "client = pymongo.MongoClient(conn)\n"
   ]
  },
  {
   "cell_type": "code",
   "execution_count": 4,
   "metadata": {},
   "outputs": [],
   "source": [
    "# Declare the database\n",
    "db = client.corona_db"
   ]
  },
  {
   "cell_type": "code",
   "execution_count": 5,
   "metadata": {},
   "outputs": [],
   "source": [
    "# Declare the collection\n",
    "collection = db.corona_data\n"
   ]
  },
  {
   "cell_type": "code",
   "execution_count": 25,
   "metadata": {},
   "outputs": [
    {
     "ename": "TypeError",
     "evalue": "update() missing 1 required positional argument: 'document'",
     "output_type": "error",
     "traceback": [
      "\u001b[0;31m---------------------------------------------------------------------------\u001b[0m",
      "\u001b[0;31mTypeError\u001b[0m                                 Traceback (most recent call last)",
      "\u001b[0;32m<ipython-input-25-fb173e71fb5c>\u001b[0m in \u001b[0;36m<module>\u001b[0;34m\u001b[0m\n\u001b[1;32m      3\u001b[0m     \u001b[0mcountries_data\u001b[0m \u001b[0;34m=\u001b[0m \u001b[0mjson\u001b[0m\u001b[0;34m.\u001b[0m\u001b[0mload\u001b[0m\u001b[0;34m(\u001b[0m\u001b[0mf\u001b[0m\u001b[0;34m)\u001b[0m\u001b[0;34m\u001b[0m\u001b[0;34m\u001b[0m\u001b[0m\n\u001b[1;32m      4\u001b[0m \u001b[0;34m\u001b[0m\u001b[0m\n\u001b[0;32m----> 5\u001b[0;31m \u001b[0mcollection\u001b[0m\u001b[0;34m.\u001b[0m\u001b[0mupdate\u001b[0m\u001b[0;34m(\u001b[0m\u001b[0mcountries_data\u001b[0m\u001b[0;34m,\u001b[0m\u001b[0mupsert\u001b[0m\u001b[0;34m=\u001b[0m\u001b[0;32mTrue\u001b[0m\u001b[0;34m)\u001b[0m\u001b[0;34m\u001b[0m\u001b[0;34m\u001b[0m\u001b[0m\n\u001b[0m",
      "\u001b[0;31mTypeError\u001b[0m: update() missing 1 required positional argument: 'document'"
     ]
    }
   ],
   "source": [
    "# Insert document into collection\n",
    "with open('countries.json') as f:\n",
    "    countries_data = json.load(f)\n",
    "\n",
    "collection.update(countries_data,upsert=True)"
   ]
  },
  {
   "cell_type": "code",
   "execution_count": 49,
   "metadata": {},
   "outputs": [
    {
     "name": "stdout",
     "output_type": "stream",
     "text": [
      "Nowhere\n",
      "Russian\n"
     ]
    }
   ],
   "source": [
    "# Verify results:\n",
    "existingCountries = []\n",
    "testCountries = ['Cuba','Nowhere','Russian']\n",
    "\n",
    "results = db.corona_data.find()[0]\n",
    "locList = list(results['Country,Other'].values())\n",
    "\n",
    "# locList\n",
    "\n",
    "for x in testCountries:\n",
    "    if x not in locList:\n",
    "        print(x)\n"
   ]
  },
  {
   "cell_type": "code",
   "execution_count": null,
   "metadata": {},
   "outputs": [],
   "source": [
    "    "
   ]
  },
  {
   "cell_type": "code",
   "execution_count": null,
   "metadata": {},
   "outputs": [],
   "source": []
  }
 ],
 "metadata": {
  "kernelspec": {
   "display_name": "Python 3",
   "language": "python",
   "name": "python3"
  },
  "language_info": {
   "codemirror_mode": {
    "name": "ipython",
    "version": 3
   },
   "file_extension": ".py",
   "mimetype": "text/x-python",
   "name": "python",
   "nbconvert_exporter": "python",
   "pygments_lexer": "ipython3",
   "version": "3.7.4"
  }
 },
 "nbformat": 4,
 "nbformat_minor": 2
}
