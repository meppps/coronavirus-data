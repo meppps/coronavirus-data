{
 "cells": [
  {
   "cell_type": "code",
   "execution_count": 71,
   "metadata": {},
   "outputs": [],
   "source": [
    "import pandas as pd\n",
    "import csv\n",
    "import requests\n",
    "from bs4 import BeautifulSoup\n",
    "import requests\n",
    "import pymongo\n",
    "import datetime\n",
    "import json\n",
    "import requests\n",
    "import time\n",
    "\n",
    "# Google developer API key\n",
    "# from config import api_key"
   ]
  },
  {
   "cell_type": "markdown",
   "metadata": {},
   "source": [
    "## Scrape Data"
   ]
  },
  {
   "cell_type": "code",
   "execution_count": 72,
   "metadata": {},
   "outputs": [
    {
     "data": {
      "text/html": [
       "<div>\n",
       "<style scoped>\n",
       "    .dataframe tbody tr th:only-of-type {\n",
       "        vertical-align: middle;\n",
       "    }\n",
       "\n",
       "    .dataframe tbody tr th {\n",
       "        vertical-align: top;\n",
       "    }\n",
       "\n",
       "    .dataframe thead th {\n",
       "        text-align: right;\n",
       "    }\n",
       "</style>\n",
       "<table border=\"1\" class=\"dataframe\">\n",
       "  <thead>\n",
       "    <tr style=\"text-align: right;\">\n",
       "      <th></th>\n",
       "      <th>Country,Other</th>\n",
       "      <th>TotalCases</th>\n",
       "      <th>NewCases</th>\n",
       "      <th>TotalDeaths</th>\n",
       "      <th>NewDeaths</th>\n",
       "      <th>TotalRecovered</th>\n",
       "      <th>ActiveCases</th>\n",
       "      <th>Serious,Critical</th>\n",
       "      <th>Tot Cases/1M pop</th>\n",
       "      <th>Deaths/1M pop</th>\n",
       "      <th>TotalTests</th>\n",
       "      <th>Tests/ 1M pop</th>\n",
       "    </tr>\n",
       "  </thead>\n",
       "  <tbody>\n",
       "    <tr>\n",
       "      <td>0</td>\n",
       "      <td>World</td>\n",
       "      <td>1697255</td>\n",
       "      <td>+93,561</td>\n",
       "      <td>102659.0</td>\n",
       "      <td>+6,975</td>\n",
       "      <td>376106.0</td>\n",
       "      <td>1218490</td>\n",
       "      <td>49830.0</td>\n",
       "      <td>218.00</td>\n",
       "      <td>13.2</td>\n",
       "      <td>NaN</td>\n",
       "      <td>NaN</td>\n",
       "    </tr>\n",
       "    <tr>\n",
       "      <td>1</td>\n",
       "      <td>USA</td>\n",
       "      <td>501821</td>\n",
       "      <td>+33,255</td>\n",
       "      <td>18695.0</td>\n",
       "      <td>+2,013</td>\n",
       "      <td>27239.0</td>\n",
       "      <td>455887</td>\n",
       "      <td>10916.0</td>\n",
       "      <td>1516.00</td>\n",
       "      <td>56.0</td>\n",
       "      <td>2536189.0</td>\n",
       "      <td>7662.0</td>\n",
       "    </tr>\n",
       "    <tr>\n",
       "      <td>2</td>\n",
       "      <td>Spain</td>\n",
       "      <td>158273</td>\n",
       "      <td>+5,051</td>\n",
       "      <td>16081.0</td>\n",
       "      <td>+634</td>\n",
       "      <td>55668.0</td>\n",
       "      <td>86524</td>\n",
       "      <td>7371.0</td>\n",
       "      <td>3385.00</td>\n",
       "      <td>344.0</td>\n",
       "      <td>355000.0</td>\n",
       "      <td>7593.0</td>\n",
       "    </tr>\n",
       "    <tr>\n",
       "      <td>3</td>\n",
       "      <td>Italy</td>\n",
       "      <td>147577</td>\n",
       "      <td>+3,951</td>\n",
       "      <td>18849.0</td>\n",
       "      <td>+570</td>\n",
       "      <td>30455.0</td>\n",
       "      <td>98273</td>\n",
       "      <td>3497.0</td>\n",
       "      <td>2441.00</td>\n",
       "      <td>312.0</td>\n",
       "      <td>906864.0</td>\n",
       "      <td>14999.0</td>\n",
       "    </tr>\n",
       "    <tr>\n",
       "      <td>4</td>\n",
       "      <td>France</td>\n",
       "      <td>124869</td>\n",
       "      <td>+7,120</td>\n",
       "      <td>13197.0</td>\n",
       "      <td>+987</td>\n",
       "      <td>24932.0</td>\n",
       "      <td>86740</td>\n",
       "      <td>7004.0</td>\n",
       "      <td>1913.00</td>\n",
       "      <td>202.0</td>\n",
       "      <td>333807.0</td>\n",
       "      <td>5114.0</td>\n",
       "    </tr>\n",
       "    <tr>\n",
       "      <td>...</td>\n",
       "      <td>...</td>\n",
       "      <td>...</td>\n",
       "      <td>...</td>\n",
       "      <td>...</td>\n",
       "      <td>...</td>\n",
       "      <td>...</td>\n",
       "      <td>...</td>\n",
       "      <td>...</td>\n",
       "      <td>...</td>\n",
       "      <td>...</td>\n",
       "      <td>...</td>\n",
       "      <td>...</td>\n",
       "    </tr>\n",
       "    <tr>\n",
       "      <td>209</td>\n",
       "      <td>Timor-Leste</td>\n",
       "      <td>2</td>\n",
       "      <td>+1</td>\n",
       "      <td>NaN</td>\n",
       "      <td>NaN</td>\n",
       "      <td>1.0</td>\n",
       "      <td>1</td>\n",
       "      <td>NaN</td>\n",
       "      <td>2.00</td>\n",
       "      <td>NaN</td>\n",
       "      <td>NaN</td>\n",
       "      <td>NaN</td>\n",
       "    </tr>\n",
       "    <tr>\n",
       "      <td>210</td>\n",
       "      <td>Saint Pierre Miquelon</td>\n",
       "      <td>1</td>\n",
       "      <td>NaN</td>\n",
       "      <td>NaN</td>\n",
       "      <td>NaN</td>\n",
       "      <td>NaN</td>\n",
       "      <td>1</td>\n",
       "      <td>NaN</td>\n",
       "      <td>173.00</td>\n",
       "      <td>NaN</td>\n",
       "      <td>NaN</td>\n",
       "      <td>NaN</td>\n",
       "    </tr>\n",
       "    <tr>\n",
       "      <td>211</td>\n",
       "      <td>Yemen</td>\n",
       "      <td>1</td>\n",
       "      <td>+1</td>\n",
       "      <td>NaN</td>\n",
       "      <td>NaN</td>\n",
       "      <td>NaN</td>\n",
       "      <td>1</td>\n",
       "      <td>NaN</td>\n",
       "      <td>0.03</td>\n",
       "      <td>NaN</td>\n",
       "      <td>NaN</td>\n",
       "      <td>NaN</td>\n",
       "    </tr>\n",
       "    <tr>\n",
       "      <td>212</td>\n",
       "      <td>China</td>\n",
       "      <td>81907</td>\n",
       "      <td>NaN</td>\n",
       "      <td>3336.0</td>\n",
       "      <td>NaN</td>\n",
       "      <td>77455.0</td>\n",
       "      <td>1116</td>\n",
       "      <td>144.0</td>\n",
       "      <td>57.00</td>\n",
       "      <td>2.0</td>\n",
       "      <td>NaN</td>\n",
       "      <td>NaN</td>\n",
       "    </tr>\n",
       "    <tr>\n",
       "      <td>213</td>\n",
       "      <td>Total:</td>\n",
       "      <td>1697255</td>\n",
       "      <td>+93,561</td>\n",
       "      <td>102659.0</td>\n",
       "      <td>+6,975</td>\n",
       "      <td>376106.0</td>\n",
       "      <td>1218490</td>\n",
       "      <td>49830.0</td>\n",
       "      <td>217.70</td>\n",
       "      <td>13.2</td>\n",
       "      <td>NaN</td>\n",
       "      <td>NaN</td>\n",
       "    </tr>\n",
       "  </tbody>\n",
       "</table>\n",
       "<p>214 rows × 12 columns</p>\n",
       "</div>"
      ],
      "text/plain": [
       "             Country,Other  TotalCases NewCases  TotalDeaths NewDeaths  \\\n",
       "0                    World     1697255  +93,561     102659.0    +6,975   \n",
       "1                      USA      501821  +33,255      18695.0    +2,013   \n",
       "2                    Spain      158273   +5,051      16081.0      +634   \n",
       "3                    Italy      147577   +3,951      18849.0      +570   \n",
       "4                   France      124869   +7,120      13197.0      +987   \n",
       "..                     ...         ...      ...          ...       ...   \n",
       "209            Timor-Leste           2       +1          NaN       NaN   \n",
       "210  Saint Pierre Miquelon           1      NaN          NaN       NaN   \n",
       "211                  Yemen           1       +1          NaN       NaN   \n",
       "212                  China       81907      NaN       3336.0       NaN   \n",
       "213                 Total:     1697255  +93,561     102659.0    +6,975   \n",
       "\n",
       "     TotalRecovered  ActiveCases  Serious,Critical  Tot Cases/1M pop  \\\n",
       "0          376106.0      1218490           49830.0            218.00   \n",
       "1           27239.0       455887           10916.0           1516.00   \n",
       "2           55668.0        86524            7371.0           3385.00   \n",
       "3           30455.0        98273            3497.0           2441.00   \n",
       "4           24932.0        86740            7004.0           1913.00   \n",
       "..              ...          ...               ...               ...   \n",
       "209             1.0            1               NaN              2.00   \n",
       "210             NaN            1               NaN            173.00   \n",
       "211             NaN            1               NaN              0.03   \n",
       "212         77455.0         1116             144.0             57.00   \n",
       "213        376106.0      1218490           49830.0            217.70   \n",
       "\n",
       "     Deaths/1M pop  TotalTests  Tests/ 1M pop  \n",
       "0             13.2         NaN            NaN  \n",
       "1             56.0   2536189.0         7662.0  \n",
       "2            344.0    355000.0         7593.0  \n",
       "3            312.0    906864.0        14999.0  \n",
       "4            202.0    333807.0         5114.0  \n",
       "..             ...         ...            ...  \n",
       "209            NaN         NaN            NaN  \n",
       "210            NaN         NaN            NaN  \n",
       "211            NaN         NaN            NaN  \n",
       "212            2.0         NaN            NaN  \n",
       "213           13.2         NaN            NaN  \n",
       "\n",
       "[214 rows x 12 columns]"
      ]
     },
     "execution_count": 72,
     "metadata": {},
     "output_type": "execute_result"
    }
   ],
   "source": [
    "url = 'https://www.worldometers.info/coronavirus/'\n",
    "header = {\n",
    "  \"User-Agent\": \"Mozilla/5.0 (X11; Linux x86_64) AppleWebKit/537.36 (KHTML, like Gecko) Chrome/50.0.2661.75 Safari/537.36\",\n",
    "  \"X-Requested-With\": \"XMLHttpRequest\"\n",
    "}\n",
    "\n",
    "r = requests.get(url, headers=header)\n",
    "\n",
    "dfs = pd.read_html(r.text)\n",
    "\n",
    "df = dfs[0]\n",
    "\n",
    "df"
   ]
  },
  {
   "cell_type": "markdown",
   "metadata": {},
   "source": [
    "## Coords"
   ]
  },
  {
   "cell_type": "code",
   "execution_count": null,
   "metadata": {},
   "outputs": [],
   "source": [
    "countriesScraped = list(df['Country,Other'])\n",
    "# countries\n",
    "# The default port used by MongoDB is 27017\n",
    "conn = 'mongodb://localhost:27017'\n",
    "client = pymongo.MongoClient(conn)\n",
    "db = client.corona_db\n",
    "collection = db.corona_data\n",
    "results = db.corona_data.find()[0]\n",
    "existingCountries = list(results['Country,Other'].values())\n",
    "\n",
    "# for country in countriesScraped:\n",
    "#     if country not in existingCountries:\n",
    "#         print(country)\n",
    "#         Run api call to get coords\n",
    "\n",
    "\n",
    "countries = list(df['Country,Other'])\n",
    "countryCount = 0\n",
    "coordinates = []\n",
    "for country in countries:\n",
    "#     print(country)\n",
    "    url = (f'https://maps.googleapis.com/maps/api/geocode/json?address={country}&key={api_key}')\n",
    "    # fix this with not in []\n",
    "    if country not in ['World','Total:']:\n",
    "        print(country)\n",
    "        try:\n",
    "            response = requests.get(url).json()\n",
    "            result = response['results'][0]['geometry']['location']\n",
    "            loc = [result['lat'],result['lng']]\n",
    "\n",
    "            print(loc)\n",
    "        except:\n",
    "            print('Failed Request')\n",
    "            loc = [0,0]\n",
    "        coordinates.append(loc)\n",
    "        time.sleep(3)\n",
    "    else:\n",
    "        loc = [0,0]\n",
    "        coordinates.append(loc)\n",
    "    \n",
    "    \n",
    "    countryCount +=1 \n"
   ]
  },
  {
   "cell_type": "code",
   "execution_count": null,
   "metadata": {},
   "outputs": [],
   "source": [
    "df.to_json('countries2.json')"
   ]
  },
  {
   "cell_type": "code",
   "execution_count": null,
   "metadata": {},
   "outputs": [],
   "source": [
    "# Insert document into collection\n",
    "with open('countries2.json') as f:\n",
    "    countries_data = json.load(f)\n",
    "\n"
   ]
  },
  {
   "cell_type": "code",
   "execution_count": null,
   "metadata": {},
   "outputs": [],
   "source": [
    "countries_data"
   ]
  },
  {
   "cell_type": "code",
   "execution_count": null,
   "metadata": {},
   "outputs": [],
   "source": [
    "collection.insert_one(countries_data)"
   ]
  },
  {
   "cell_type": "markdown",
   "metadata": {},
   "source": [
    "## Database coords"
   ]
  },
  {
   "cell_type": "code",
   "execution_count": null,
   "metadata": {},
   "outputs": [],
   "source": [
    "# Insert document into collection\n",
    "with open('countries.json') as f:\n",
    "    countries_data = json.load(f)"
   ]
  },
  {
   "cell_type": "code",
   "execution_count": null,
   "metadata": {},
   "outputs": [],
   "source": [
    "data = pd.read_json('countries.json')"
   ]
  },
  {
   "cell_type": "code",
   "execution_count": null,
   "metadata": {},
   "outputs": [],
   "source": [
    "data"
   ]
  },
  {
   "cell_type": "code",
   "execution_count": null,
   "metadata": {},
   "outputs": [],
   "source": [
    "countries = data['Country,Other']\n",
    "coordinates = data['Coords']"
   ]
  },
  {
   "cell_type": "code",
   "execution_count": null,
   "metadata": {},
   "outputs": [],
   "source": [
    "coordsDF = pd.DataFrame({\n",
    "    'country': countries,\n",
    "    'coords': coordinates\n",
    "})"
   ]
  },
  {
   "cell_type": "code",
   "execution_count": null,
   "metadata": {},
   "outputs": [],
   "source": [
    "coordsDF"
   ]
  },
  {
   "cell_type": "code",
   "execution_count": null,
   "metadata": {},
   "outputs": [],
   "source": [
    "coordsDF.to_json('coords.json')"
   ]
  },
  {
   "cell_type": "code",
   "execution_count": null,
   "metadata": {},
   "outputs": [],
   "source": [
    "# Insert document into collection\n",
    "with open('coords.json') as f:\n",
    "    coords_data = json.load(f)"
   ]
  },
  {
   "cell_type": "code",
   "execution_count": null,
   "metadata": {},
   "outputs": [],
   "source": [
    "# coords_data\n",
    "conn = 'mongodb://localhost:27017'\n",
    "client = pymongo.MongoClient(conn)\n",
    "db = client.corona_db\n",
    "collection = db.country_coords"
   ]
  },
  {
   "cell_type": "code",
   "execution_count": null,
   "metadata": {},
   "outputs": [],
   "source": [
    "collection.insert_one(coords_data)"
   ]
  },
  {
   "cell_type": "code",
   "execution_count": null,
   "metadata": {},
   "outputs": [],
   "source": [
    "results = db.country_coords.find()\n",
    "# for result in results:\n",
    "#     print(result)\n",
    "# result"
   ]
  },
  {
   "cell_type": "code",
   "execution_count": null,
   "metadata": {},
   "outputs": [],
   "source": [
    "result['country']"
   ]
  },
  {
   "cell_type": "markdown",
   "metadata": {},
   "source": [
    "## Comparison Testing"
   ]
  },
  {
   "cell_type": "code",
   "execution_count": null,
   "metadata": {},
   "outputs": [],
   "source": [
    "df['Coords'] = ''\n",
    "df.head()"
   ]
  },
  {
   "cell_type": "code",
   "execution_count": null,
   "metadata": {},
   "outputs": [],
   "source": [
    "oldDF = pd.read_json('countries.json')\n",
    "oldDF.head()"
   ]
  },
  {
   "cell_type": "code",
   "execution_count": null,
   "metadata": {},
   "outputs": [],
   "source": [
    "newCountriesList = list(df['Country,Other'])\n",
    "oldCountriesList = list(oldDF['Country,Other'])\n",
    "needCoords = []"
   ]
  },
  {
   "cell_type": "code",
   "execution_count": null,
   "metadata": {},
   "outputs": [],
   "source": [
    "for x in newCountriesList:\n",
    "    if x not in oldCountriesList:\n",
    "        needCoords.append(x)\n",
    "        print(x)"
   ]
  },
  {
   "cell_type": "code",
   "execution_count": null,
   "metadata": {},
   "outputs": [],
   "source": [
    "needCoords"
   ]
  },
  {
   "cell_type": "code",
   "execution_count": null,
   "metadata": {},
   "outputs": [],
   "source": [
    "# coords_data\n",
    "conn = 'mongodb://localhost:27017'\n",
    "client = pymongo.MongoClient(conn)\n",
    "db = client.corona_db\n",
    "collection = db.country_coords"
   ]
  },
  {
   "cell_type": "code",
   "execution_count": null,
   "metadata": {},
   "outputs": [],
   "source": [
    "coordsData = collection.find_one()\n",
    "countries = coordsData['country']\n",
    "coordinates = coordsData['coords']\n",
    "\n",
    "coordsDF = pd.DataFrame({\n",
    "    'country': countries,\n",
    "    'coords': coordinates\n",
    "})"
   ]
  },
  {
   "cell_type": "code",
   "execution_count": null,
   "metadata": {},
   "outputs": [],
   "source": [
    "coordsDF"
   ]
  },
  {
   "cell_type": "code",
   "execution_count": null,
   "metadata": {},
   "outputs": [],
   "source": [
    "for index1,row1 in df.iterrows():\n",
    "    xCountry = row1['Country,Other']\n",
    "#     print(xCountry)\n",
    "    query = collection.find({'country':xCountry})\n",
    "    print(query)\n",
    "#     for index2,row2 in coordsDF.iterrows():\n",
    "#         yCountry = row2['country']\n",
    "#         yCoords = row2['coords']\n",
    "#         if yCountry == xCountry:\n",
    "#             print(xCountry,yCoords)\n",
    "#             row1['Coords'] = yCoords\n",
    "            \n",
    "    "
   ]
  },
  {
   "cell_type": "code",
   "execution_count": null,
   "metadata": {},
   "outputs": [],
   "source": []
  },
  {
   "cell_type": "code",
   "execution_count": null,
   "metadata": {},
   "outputs": [],
   "source": []
  }
 ],
 "metadata": {
  "kernelspec": {
   "display_name": "Python 3",
   "language": "python",
   "name": "python3"
  },
  "language_info": {
   "codemirror_mode": {
    "name": "ipython",
    "version": 3
   },
   "file_extension": ".py",
   "mimetype": "text/x-python",
   "name": "python",
   "nbconvert_exporter": "python",
   "pygments_lexer": "ipython3",
   "version": "3.7.3"
  }
 },
 "nbformat": 4,
 "nbformat_minor": 2
}
