{
 "cells": [
  {
   "cell_type": "code",
   "execution_count": null,
   "metadata": {},
   "outputs": [],
   "source": [
    "import pandas as pd\n",
    "import csv\n",
    "import requests\n",
    "from bs4 import BeautifulSoup\n",
    "import requests\n",
    "import pymongo\n",
    "import datetime\n",
    "import json\n",
    "import requests\n",
    "import time\n",
    "from bson import ObjectId"
   ]
  },
  {
   "cell_type": "code",
   "execution_count": null,
   "metadata": {},
   "outputs": [],
   "source": [
    "url = 'https://www.worldometers.info/coronavirus/'\n",
    "header = {\n",
    "  \"User-Agent\": \"Mozilla/5.0 (X11; Linux x86_64) AppleWebKit/537.36 (KHTML, like Gecko) Chrome/50.0.2661.75 Safari/537.36\",\n",
    "  \"X-Requested-With\": \"XMLHttpRequest\"\n",
    "}\n",
    "\n",
    "r = requests.get(url, headers=header)\n",
    "soup = BeautifulSoup(r.text,'lxml')"
   ]
  },
  {
   "cell_type": "code",
   "execution_count": null,
   "metadata": {},
   "outputs": [],
   "source": [
    "trs = soup.find_all('tr')"
   ]
  },
  {
   "cell_type": "code",
   "execution_count": null,
   "metadata": {},
   "outputs": [],
   "source": [
    "# The default port used by MongoDB is 27017\n",
    "conn = 'mongodb://localhost:27017'\n",
    "client = pymongo.MongoClient(conn)\n",
    "db = client.corona_db\n",
    "collection = db.country_coords\n",
    "coordsList = collection.find_one()['countries']"
   ]
  },
  {
   "cell_type": "code",
   "execution_count": null,
   "metadata": {},
   "outputs": [],
   "source": [
    "# Loop through countries\n",
    "countries = []\n",
    "\n",
    "names = []\n",
    "totalCasesList = []\n",
    "deathsList = []\n",
    "recoveredList = []\n",
    "activeCasesList = []\n",
    "testsList = []\n",
    "populationList = []\n",
    "coordsData = []\n",
    "newCasesList = []\n",
    "\n",
    "for i in range(len(trs)):\n",
    "    # If country row, pull data\n",
    "    if 'href=\"country' in str(trs[i]):\n",
    "        country = str(trs[i]).split('\\n')\n",
    "        name = country[2].split('</a>')[0].split(\"/\\\">\")[1]\n",
    "        totalCases = country[3].split('>')[1].split('<')[0]\n",
    "        deaths = country[5].split(\"\\\">\")[1].split('<')[0]\n",
    "        recovered = country[8].split(\"\\\">\")[1].split('<')[0]\n",
    "        activeCases = country[10].split(\"\\\">\")[1].split('<')[0]\n",
    "        tests = country[14].split(\"\\\">\")[1].split('<')[0]\n",
    "        population = country[16].split('>')[2].split('<')[0]\n",
    "        \n",
    "\n",
    "        for x in range(len(coordsList)):\n",
    "            if coordsList[x]['name'] == name:\n",
    "                lat = coordsList[x]['lat']\n",
    "                lng = coordsList[x]['lng']\n",
    "                coordsFound = True\n",
    "                break\n",
    "            else:\n",
    "                lat = 0\n",
    "                lng = 0\n",
    "            \n",
    "                \n",
    "\n",
    "        \n",
    "        \n",
    "        try:\n",
    "            newCases = country[4].split('>+')[1].split('</')[0]\n",
    "        except:\n",
    "            newCases = 0\n",
    "\n",
    "        \n",
    "        names.append(name)\n",
    "        totalCasesList.append(totalCases)\n",
    "        deathsList.append(deaths)\n",
    "        activeCasesList.append(activeCases)\n",
    "        recoveredList.append(recovered)\n",
    "        populationList.append(population)\n",
    "        testsList.append(tests)\n",
    "        coordsData.append([lat,lng])\n",
    "        newCasesList.append(newCases)\n",
    "        \n",
    "        \n",
    "\n",
    "        i+=1\n"
   ]
  },
  {
   "cell_type": "code",
   "execution_count": null,
   "metadata": {},
   "outputs": [],
   "source": [
    "countryDict = {\n",
    "    'name': names,\n",
    "    'totalCases': totalCasesList,\n",
    "    'deaths': deathsList,\n",
    "    'recovered': recoveredList, \n",
    "    'activeCases': activeCasesList,\n",
    "    'population': populationList,\n",
    "    'coords': coordsData,\n",
    "    'newCases': newCasesList\n",
    "}\n",
    "countryDict"
   ]
  },
  {
   "cell_type": "code",
   "execution_count": null,
   "metadata": {},
   "outputs": [],
   "source": [
    "# Update data in db\n",
    "collection = db.corona_data"
   ]
  },
  {
   "cell_type": "code",
   "execution_count": null,
   "metadata": {},
   "outputs": [],
   "source": [
    "updatedData = [countryDict]\n",
    "updatedData"
   ]
  },
  {
   "cell_type": "code",
   "execution_count": null,
   "metadata": {},
   "outputs": [],
   "source": [
    "# res = collection.find({\"_id\" : ObjectId(\"5f1201553772928119aabb9f\")})\n",
    "# for r in res:\n",
    "#     print(r)"
   ]
  },
  {
   "cell_type": "code",
   "execution_count": null,
   "metadata": {},
   "outputs": [],
   "source": [
    "collection.update_one({},{\"$set\":{\"countries\":updatedData}})"
   ]
  },
  {
   "cell_type": "code",
   "execution_count": null,
   "metadata": {},
   "outputs": [],
   "source": [
    "# with open('sample.json', 'w') as f:\n",
    "#     json.dump(updatedData, f)\n"
   ]
  },
  {
   "cell_type": "code",
   "execution_count": null,
   "metadata": {},
   "outputs": [],
   "source": []
  }
 ],
 "metadata": {
  "kernelspec": {
   "display_name": "Python 3",
   "language": "python",
   "name": "python3"
  },
  "language_info": {
   "codemirror_mode": {
    "name": "ipython",
    "version": 3
   },
   "file_extension": ".py",
   "mimetype": "text/x-python",
   "name": "python",
   "nbconvert_exporter": "python",
   "pygments_lexer": "ipython3",
   "version": "3.7.4"
  }
 },
 "nbformat": 4,
 "nbformat_minor": 4
}
