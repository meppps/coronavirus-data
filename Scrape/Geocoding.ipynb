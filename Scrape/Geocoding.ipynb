{
 "cells": [
  {
   "cell_type": "code",
   "execution_count": null,
   "metadata": {},
   "outputs": [],
   "source": [
    " # Dependencies\n",
    "import requests\n",
    "import json\n",
    "from config import key\n",
    "import time\n",
    "api_key = key\n",
    "\n",
    "\n",
    "# Google developer API key\n",
    " \n",
    "\n",
    "# Target city\n",
    "country = 'africa'\n",
    "\n",
    "# Build the endpoint URL\n",
    "target_url = (f'https://maps.googleapis.com/maps/api/geocode/json?address={country}&key={api_key}')"
   ]
  },
  {
   "cell_type": "code",
   "execution_count": null,
   "metadata": {},
   "outputs": [],
   "source": [
    "geo_data = requests.get(target_url).json()\n",
    "\n",
    "# Print the json\n",
    "print(geo_data)"
   ]
  },
  {
   "cell_type": "code",
   "execution_count": null,
   "metadata": {},
   "outputs": [],
   "source": [
    "print(geo_data['results'][0]['geometry']['location']['lng'])"
   ]
  },
  {
   "cell_type": "code",
   "execution_count": null,
   "metadata": {},
   "outputs": [],
   "source": [
    "with open ('countries.json') as f:\n",
    "    data = json.load(f)\n",
    "    print(data)"
   ]
  },
  {
   "cell_type": "code",
   "execution_count": null,
   "metadata": {},
   "outputs": [],
   "source": [
    "countries = []\n",
    "countryCoords = []\n",
    "for i in range(len(data)):\n",
    "    country = data[i]['name']\n",
    "    countries.append(country)\n",
    "    print(country)"
   ]
  },
  {
   "cell_type": "code",
   "execution_count": null,
   "metadata": {},
   "outputs": [],
   "source": [
    "failed = []\n",
    "for i in range(len(countries)):\n",
    "    countryObj = {}\n",
    "    country = countries[i]\n",
    "    try:\n",
    "        target_url = (f'https://maps.googleapis.com/maps/api/geocode/json?address={country}&key={api_key}')\n",
    "        geo_data = requests.get(target_url).json()\n",
    "        countryObj['name'] = country\n",
    "        countryObj['lat'] = geo_data['results'][0]['geometry']['location']['lat']\n",
    "        countryObj['lng'] = geo_data['results'][0]['geometry']['location']['lng']\n",
    "        countryCoords.append(countryObj)\n",
    "    except:\n",
    "        failed.append(country)\n",
    "    time.sleep(3)\n",
    "    \n",
    "    print(countryObj)"
   ]
  },
  {
   "cell_type": "code",
   "execution_count": null,
   "metadata": {},
   "outputs": [],
   "source": [
    "countryDict = {\n",
    "    'countries': countryCoords\n",
    "}"
   ]
  },
  {
   "cell_type": "code",
   "execution_count": null,
   "metadata": {},
   "outputs": [],
   "source": [
    "file = json.dumps(countries)"
   ]
  },
  {
   "cell_type": "code",
   "execution_count": null,
   "metadata": {},
   "outputs": [],
   "source": [
    "with open('coords.json', 'w') as f:\n",
    "    json.dump(countryDict, f)"
   ]
  },
  {
   "cell_type": "code",
   "execution_count": null,
   "metadata": {},
   "outputs": [],
   "source": [
    "# Manual upload json to mongodb"
   ]
  },
  {
   "cell_type": "code",
   "execution_count": null,
   "metadata": {},
   "outputs": [],
   "source": []
  }
 ],
 "metadata": {
  "kernelspec": {
   "display_name": "Python 3",
   "language": "python",
   "name": "python3"
  },
  "language_info": {
   "codemirror_mode": {
    "name": "ipython",
    "version": 3
   },
   "file_extension": ".py",
   "mimetype": "text/x-python",
   "name": "python",
   "nbconvert_exporter": "python",
   "pygments_lexer": "ipython3",
   "version": "3.7.4"
  }
 },
 "nbformat": 4,
 "nbformat_minor": 2
}
