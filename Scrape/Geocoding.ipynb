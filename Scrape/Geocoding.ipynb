{
 "cells": [
  {
   "cell_type": "code",
   "execution_count": 8,
   "metadata": {},
   "outputs": [],
   "source": [
    " # Dependencies\n",
    "import requests\n",
    "import json\n",
    "\n",
    "# Google developer API key\n",
    " \n",
    "\n",
    "# Target city\n",
    "country = 'africa'\n",
    "\n",
    "# Build the endpoint URL\n",
    "target_url = (f'https://maps.googleapis.com/maps/api/geocode/json?address={country}&key={api_key}')"
   ]
  },
  {
   "cell_type": "code",
   "execution_count": 7,
   "metadata": {},
   "outputs": [
    {
     "name": "stdout",
     "output_type": "stream",
     "text": [
      "{'results': [{'address_components': [{'long_name': 'Africa', 'short_name': 'Africa', 'types': ['continent', 'establishment', 'natural_feature']}], 'formatted_address': 'Africa', 'geometry': {'bounds': {'northeast': {'lat': 37.5359, 'lng': 63.80859390000001}, 'southwest': {'lat': -47.1313489, 'lng': -25.383911}}, 'location': {'lat': -8.783195, 'lng': 34.508523}, 'location_type': 'APPROXIMATE', 'viewport': {'northeast': {'lat': 33.8352384, 'lng': 59.31900329999999}, 'southwest': {'lat': -29.3041736, 'lng': -12.1360704}}}, 'place_id': 'ChIJ1fWMlApsoBARs_CQnslwghA', 'types': ['continent', 'establishment', 'natural_feature']}], 'status': 'OK'}\n"
     ]
    }
   ],
   "source": [
    "geo_data = requests.get(target_url).json()\n",
    "\n",
    "# Print the json\n",
    "print(geo_data)"
   ]
  },
  {
   "cell_type": "code",
   "execution_count": 18,
   "metadata": {},
   "outputs": [
    {
     "name": "stdout",
     "output_type": "stream",
     "text": [
      "{'lat': -8.783195, 'lng': 34.508523}\n"
     ]
    }
   ],
   "source": [
    "print(geo_data['results'][0]['geometry']['location'])"
   ]
  },
  {
   "cell_type": "code",
   "execution_count": null,
   "metadata": {},
   "outputs": [],
   "source": []
  }
 ],
 "metadata": {
  "kernelspec": {
   "display_name": "Python 3",
   "language": "python",
   "name": "python3"
  },
  "language_info": {
   "codemirror_mode": {
    "name": "ipython",
    "version": 3
   },
   "file_extension": ".py",
   "mimetype": "text/x-python",
   "name": "python",
   "nbconvert_exporter": "python",
   "pygments_lexer": "ipython3",
   "version": "3.7.4"
  }
 },
 "nbformat": 4,
 "nbformat_minor": 2
}
